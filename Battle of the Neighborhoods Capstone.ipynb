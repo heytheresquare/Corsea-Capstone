{
    "cells": [
        {
            "cell_type": "markdown",
            "metadata": {
                "collapsed": true
            },
            "source": "# Peer-graded Assignment: Capstone Project - The Battle of Neighborhoods"
        },
        {
            "cell_type": "markdown",
            "metadata": {},
            "source": "## Introduction"
        },
        {
            "cell_type": "markdown",
            "metadata": {},
            "source": "### A description of the problem and a discussion of the background."
        },
        {
            "cell_type": "markdown",
            "metadata": {},
            "source": "*Clearly define a problem or an idea of your choice, where you would need to leverage the Foursquare location data to solve or execute. Remember that data science problems always target an audience and are meant to help a group of stakeholders solve a problem, so make sure that you explicitly describe your audience and why they would care about your problem.*"
        },
        {
            "cell_type": "markdown",
            "metadata": {},
            "source": "The problem or idea to be explored is:  "
        },
        {
            "cell_type": "markdown",
            "metadata": {},
            "source": "***If someone is looking to open a restaurant in Toronto, what neighborhoods would be best for them to open it?***"
        },
        {
            "cell_type": "markdown",
            "metadata": {},
            "source": "For potential restaurant owners, the success of their business venture will rely on consideration of population and income of the target demographics in the neighbourhoods as well as consideration of the existing competitors that the company may face. If a restaurant owner were to open a restaurant that is in a low-population area, the brand may not become widly recognized or attended by locals or attract people from other areas, affecting the revenue. If a restaurant is open in an area with low-income the restaurant will again not likely have many customers or frequency of repeat visits even if the population is there as the customer base may not be able to afford dinning out. Combining low-income and low-population would be an aggrivated scenario affecting the ability for the restaurant to continue operations. Moreover, even in well populated and good income neighbourhoods, if there are a lot of well-known restaurant options already existing, customer loyalty might be strong and the new openning ignored. All of these factors are important to consider in a new venture as they directly impact profitability and the possible longevity of the restaurants existence. Therefore, for potential restaurant owners, the problem of location is worth paying attention to and doing some analysis before even starting the search for a venue. "
        },
        {
            "cell_type": "markdown",
            "metadata": {},
            "source": "### A description of the data and how it will be used to solve the problem."
        },
        {
            "cell_type": "markdown",
            "metadata": {},
            "source": "*Describe the data that you will be using to solve the problem or execute your idea. Remember that you will need to use the Foursquare location data to solve the problem or execute your idea. You can absolutely use other datasets in combination with the Foursquare location data. So make sure that you provide adequate explanation and discussion, with examples, of the data that you will be using, even if it is only Foursquare location data.*"
        },
        {
            "cell_type": "markdown",
            "metadata": {},
            "source": "The necessary information about demographics including neighborhood population and incomes will be sources primarily from the Toronto city census website (https://www.toronto.ca/city-government/data-research-maps/open-data/open-data-catalogue/#8c732154-5012-9afe-d0cd-ba3ffc813d5a). This information is publicly accessible. "
        },
        {
            "cell_type": "markdown",
            "metadata": {},
            "source": "The second phase, once screaning of neighbourhoods has been done to identify the most attractive neighborhoods, will be to determine the competitors that already exist in these target neighbourhoods. This can be considered in a few different ways including the simple number of restaurants per neighborhood, the number of people per restaurant in a neighborhood, or the quality score rating of the restaurants in the neighborhood. This data on competitors will be collected via Foursquare API."
        },
        {
            "cell_type": "markdown",
            "metadata": {},
            "source": "## Pre-analysis download and set-up"
        },
        {
            "cell_type": "code",
            "execution_count": null,
            "metadata": {},
            "outputs": [
                {
                    "name": "stdout",
                    "output_type": "stream",
                    "text": "Solving environment: done\n\n## Package Plan ##\n\n  environment location: /opt/conda/envs/Python36\n\n  added / updated specs: \n    - geopy\n\n\nThe following packages will be downloaded:\n\n    package                    |            build\n    ---------------------------|-----------------\n    certifi-2020.4.5.2         |   py36h9f0ad1d_0         152 KB  conda-forge\n    geographiclib-1.50         |             py_0          34 KB  conda-forge\n    python_abi-3.6             |          1_cp36m           4 KB  conda-forge\n    openssl-1.1.1g             |       h516909a_0         2.1 MB  conda-forge\n    geopy-1.22.0               |     pyh9f0ad1d_0          63 KB  conda-forge\n    ca-certificates-2020.4.5.2 |       hecda079_0         147 KB  conda-forge\n    ------------------------------------------------------------\n                                           Total:         2.5 MB\n\nThe following NEW packages will be INSTALLED:\n\n    geographiclib:   1.50-py_0           conda-forge\n    geopy:           1.22.0-pyh9f0ad1d_0 conda-forge\n    python_abi:      3.6-1_cp36m         conda-forge\n\nThe following packages will be UPDATED:\n\n    ca-certificates: 2020.1.1-0                      --> 2020.4.5.2-hecda079_0     conda-forge\n    certifi:         2020.4.5.1-py36_0               --> 2020.4.5.2-py36h9f0ad1d_0 conda-forge\n    openssl:         1.1.1g-h7b6447c_0               --> 1.1.1g-h516909a_0         conda-forge\n\n\nDownloading and Extracting Packages\ncertifi-2020.4.5.2   | 152 KB    | ##################################### | 100% \ngeographiclib-1.50   | 34 KB     | ##################################### | 100% \npython_abi-3.6       | 4 KB      | ##################################### | 100% \nopenssl-1.1.1g       | 2.1 MB    | ##################################### | 100% \ngeopy-1.22.0         | 63 KB     | ##################################### | 100% \nca-certificates-2020 | 147 KB    | ##################################### | 100% \nPreparing transaction: done\nVerifying transaction: done\nExecuting transaction: done\nSolving environment: \\ "
                }
            ],
            "source": "# library to handle data in a vectorized manner\nimport numpy as np \n\n# library for data analsysis\nimport pandas as pd \npd.set_option('display.max_columns', None)\npd.set_option('display.max_rows', None)\nimport matplotlib.cm as cm\nimport matplotlib.colors as colors\n\n# convert an address into latitude and longitude values\n!conda install -c conda-forge geopy --yes \nfrom geopy.geocoders import Nominatim \n\n# map rendering library\n!conda install -c conda-forge folium=0.5.0 --yes \nimport folium \n\nprint('Libraries imported.')"
        },
        {
            "cell_type": "code",
            "execution_count": null,
            "metadata": {},
            "outputs": [],
            "source": "# Toronto Census Data - Neighbourhood Profiles 2016 (CSV)\n# https://www.toronto.ca/city-government/data-research-maps/open-data/open-data-catalogue/#8c732154-5012-9afe-d0cd-ba3ffc813d5a\n\ncsv_path='https://www.toronto.ca/ext/open_data/catalog/data_set_files/2016_neighbourhood_profiles.csv'\ndf = pd.read_csv(csv_path,encoding='latin1')\nprint('Data loaded')"
        },
        {
            "cell_type": "markdown",
            "metadata": {},
            "source": "## Methodology"
        },
        {
            "cell_type": "markdown",
            "metadata": {},
            "source": "Methodology section which represents the main component of the report where you discuss and describe any exploratory data analysis that you did, any inferential statistical testing that you performed, if any, and what machine learnings were used and why."
        },
        {
            "cell_type": "markdown",
            "metadata": {},
            "source": "## Results"
        },
        {
            "cell_type": "markdown",
            "metadata": {},
            "source": "Results section where you discuss the results."
        },
        {
            "cell_type": "markdown",
            "metadata": {},
            "source": "## Discussion"
        },
        {
            "cell_type": "markdown",
            "metadata": {},
            "source": "Discussion section where you discuss any observations you noted and any recommendations you can make based on the results."
        },
        {
            "cell_type": "markdown",
            "metadata": {},
            "source": "## Conclusion"
        },
        {
            "cell_type": "markdown",
            "metadata": {},
            "source": "Conclusion section where you conclude the report."
        },
        {
            "cell_type": "markdown",
            "metadata": {},
            "source": "## Data Analysis Work"
        },
        {
            "cell_type": "code",
            "execution_count": null,
            "metadata": {},
            "outputs": [],
            "source": "df.head()"
        },
        {
            "cell_type": "code",
            "execution_count": null,
            "metadata": {},
            "outputs": [],
            "source": "#Collecting neighbourhood names\nNeighbourhoods = list(df.columns.values)\nNeighbourhoods = Neighbourhoods[5:]\nprint(Neighbourhoods)\n\n#Building a new data frame with the neighbourhoods, population, and income\ndfToronto = pd.DataFrame(index=Neighbourhoods, columns=[\"Population_2016\",\"Income_2016\"])\n\n#Populating the dataset\n# Population_2016 = Population, 2016\n# Income_2016 = Total income: Average amount ($)\n\nfor index, row in dfToronto.iterrows():\n    dfToronto.at[index, 'Population_2016'] = df[index][2]\n    dfToronto.at[index, 'Income_2016'] = df[index][2264]\n    \n\ndfToronto.sort_values('Income_2016')"
        },
        {
            "cell_type": "code",
            "execution_count": null,
            "metadata": {},
            "outputs": [],
            "source": ""
        }
    ],
    "metadata": {
        "kernelspec": {
            "display_name": "Python 3.6",
            "language": "python",
            "name": "python3"
        },
        "language_info": {
            "codemirror_mode": {
                "name": "ipython",
                "version": 3
            },
            "file_extension": ".py",
            "mimetype": "text/x-python",
            "name": "python",
            "nbconvert_exporter": "python",
            "pygments_lexer": "ipython3",
            "version": "3.6.9"
        }
    },
    "nbformat": 4,
    "nbformat_minor": 1
}